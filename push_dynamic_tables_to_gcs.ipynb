{
 "cells": [
  {
   "cell_type": "code",
   "execution_count": 4,
   "id": "18e0e281-7b2b-4c89-b4f2-b201a381e0d3",
   "metadata": {},
   "outputs": [],
   "source": [
    "import pandas as pd\n",
    "import json"
   ]
  },
  {
   "cell_type": "code",
   "execution_count": 7,
   "id": "8d438538-e831-41e2-9eb6-b7837e312636",
   "metadata": {},
   "outputs": [],
   "source": [
    "def push_dynamic_tables_to_gcs():\n",
    "\n",
    "    config_file = \"../json/db_config_gcs_gans.json\"\n",
    "    login_weather  = \"../json/api_login_openweather.json\"\n",
    "    login_flights  = \"../json/api_login_rapidapi.json\"\n",
    "    \n",
    "    cities = utils.get_cities_df(config_file)\n",
    "    \n",
    "    url, appid = utils.get_api_login(login_weather)\n",
    "    weather_df = utils.get_weather_data(cities, url, appid)\n",
    "    utils.push_df_to_sql(weather_df, 'weather', config_file, return_df=False)\n",
    "    \n",
    "    c = cities.loc[cities.city.isin(['Berlin'])]\n",
    "    airports_df = utils.get_airports(c, login_flights)\n",
    "    \n",
    "    arrivals_df = utils.get_flights_data(login_flights, airports_df, days=1)\n",
    "    utils.push_df_to_sql(arrivals_df, 'arrivals', config_file, return_df=False)\n",
    "\n",
    "    print('Success!')"
   ]
  },
  {
   "cell_type": "code",
   "execution_count": 8,
   "id": "5c49e1f6-48a0-4558-bf5f-784f7d1f3085",
   "metadata": {
    "scrolled": true
   },
   "outputs": [
    {
     "name": "stdout",
     "output_type": "stream",
     "text": [
      "Berlin\n",
      "Hamburg\n",
      "Munich\n",
      "Cologne\n",
      "Frankfurt\n",
      "Stuttgart\n",
      "Düsseldorf\n",
      "Leipzig\n",
      "Dortmund\n",
      "Paris\n",
      "Madrid\n",
      "Amsterdam\n",
      "Warsaw\n",
      "Vienna\n",
      "Zürich\n",
      "Prague\n",
      "Success!\n"
     ]
    }
   ],
   "source": [
    "push_dynamic_tables_to_gcs()"
   ]
  }
 ],
 "metadata": {
  "kernelspec": {
   "display_name": "Python 3 (ipykernel)",
   "language": "python",
   "name": "python3"
  },
  "language_info": {
   "codemirror_mode": {
    "name": "ipython",
    "version": 3
   },
   "file_extension": ".py",
   "mimetype": "text/x-python",
   "name": "python",
   "nbconvert_exporter": "python",
   "pygments_lexer": "ipython3",
   "version": "3.11.5"
  }
 },
 "nbformat": 4,
 "nbformat_minor": 5
}
