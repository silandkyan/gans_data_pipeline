{
 "cells": [
  {
   "cell_type": "markdown",
   "metadata": {
    "id": "UHx-zvHTDSSV"
   },
   "source": [
    "# Challenge\n",
    "\n",
    "Utilise your web scraping skills to gather information about three German cities – Berlin, Hamburg, and Munich – from Wikipedia. You will start by extracting the population of each city and then expand the scope of your data gathering to include latitude and longitude, country, and possibly other relevant details.\n",
    "\n",
    "1. Population Scraping\n",
    "\n",
    "  1.1. Begin by scraping the population of each city from their respective Wikipedia pages:\n",
    "\n",
    " - Berlin: https://en.wikipedia.org/wiki/Berlin\n",
    " - Hamburg: https://en.wikipedia.org/wiki/Hamburg\n",
    " - Munich: https://en.wikipedia.org/wiki/Munich\n",
    "\n",
    "  1.2. Once you have scrapped the population of each city, reflect on the similarities and patterns in accessing the population data across the three pages. Also, analyse the URLs to identify any commonalities. Make a loop that executes once but simultaneously retrieves the population for all three cities.\n",
    "\n",
    "2. Data Organisation\n",
    "\n",
    "  Utilise pandas DataFrame to effectively store the extracted population data. Ensure the data is clean and properly formatted. Remove any unnecessary characters or symbols and ensure the column data types are accurate.\n",
    "\n",
    "3. Further Enhancement\n",
    "\n",
    "  3.1. Expand the scope of your data gathering by extracting other relevant information for each city:\n",
    "\n",
    " - Latitude and longitude\n",
    " - Country of location\n",
    "\n",
    "  3.2. Create a function from the loop and DataFrame to encapsulate the scraping process. This function can be used repeatedly to fetch updated data whenever necessary. It should return a clean, properly formatted DataFrame.\n",
    "\n",
    "4. Global Data Scraping\n",
    "\n",
    "  With your robust scraping skills now honed, venture beyond the confines of Germany and explore other cities around the world. While the extraction methodology for German cities may follow a consistent pattern, this may not be the case for cities from different countries. Can you make a function that returns a clean DataFrame of information for cities worldwide?"
   ]
  },
  {
   "cell_type": "markdown",
   "metadata": {
    "id": "wBxytGrEDh-R"
   },
   "source": [
    "## 1. Population Scraping"
   ]
  },
  {
   "cell_type": "code",
   "execution_count": 1,
   "metadata": {
    "executionInfo": {
     "elapsed": 897,
     "status": "ok",
     "timestamp": 1707486699702,
     "user": {
      "displayName": "Philip Groß",
      "userId": "12183623736331323053"
     },
     "user_tz": -60
    },
    "id": "qyaL5q27Cy6P"
   },
   "outputs": [],
   "source": [
    "import pandas as pd\n",
    "import requests\n",
    "import re\n",
    "from bs4 import BeautifulSoup"
   ]
  },
  {
   "cell_type": "code",
   "execution_count": 2,
   "metadata": {
    "executionInfo": {
     "elapsed": 14,
     "status": "ok",
     "timestamp": 1707486699703,
     "user": {
      "displayName": "Philip Groß",
      "userId": "12183623736331323053"
     },
     "user_tz": -60
    },
    "id": "OU3s3cg2Z0DU"
   },
   "outputs": [],
   "source": [
    "def get_pop_data(s):\n",
    "    # get the infobox\n",
    "    ibox = s.find_all('table', class_='infobox ib-settlement vcard')\n",
    "\n",
    "    # get the population box\n",
    "    popbox = ibox[0].find(string='Population').parent.find_next('td')\n",
    "\n",
    "    # get population data as int\n",
    "    pop = int(popbox.get_text(strip=True)\n",
    "    .replace(',', '') # clean stuff\n",
    "    .split(' ')[0] # clean stuff\n",
    "    .split('[')[0]) # clean stuff\n",
    "\n",
    "    return pop\n",
    "\n",
    "\n",
    "def get_coordinates(s):\n",
    "    lat_dms = s.find('span', class_='latitude').get_text(strip=True)\n",
    "    lon_dms = s.find('span', class_='longitude').get_text(strip=True)\n",
    "    lat = dms_to_decimal(lat_dms)\n",
    "    lon = dms_to_decimal(lon_dms)\n",
    "    return lat, lon\n",
    "\n",
    "\n",
    "def dms_to_decimal(dms_str):\n",
    "    \"\"\"\n",
    "    Convert degrees, minutes, and seconds coordinates in string format to decimal degrees.\n",
    "    \n",
    "    Parameters:\n",
    "    - dms_str: string representing coordinates in the format 'dd°mm′ss″N'.\n",
    "\n",
    "    Returns:\n",
    "    - decimal_degrees: float representing decimal degrees.\n",
    "    \"\"\"\n",
    "    dms_parts = dms_str.split('°')\n",
    "    degrees = int(dms_parts[0])\n",
    "    mm_ss_parts = dms_parts[1].split('′')\n",
    "    minutes = int(mm_ss_parts[0])\n",
    "    if '″' in mm_ss_parts[1]:\n",
    "        mm_dir_part = mm_ss_parts[1].split('″')\n",
    "        seconds = int(mm_dir_part[0])\n",
    "        direction = mm_dir_part[-1]\n",
    "    else:\n",
    "        seconds = 0\n",
    "        direction = mm_ss_parts[-1]\n",
    "    \n",
    "    # Determine sign based on direction\n",
    "    sign = 1 if direction in ['N', 'E'] else -1\n",
    "    \n",
    "    # Convert degrees, minutes, and seconds to decimal degrees\n",
    "    decimal_degrees = sign * (degrees + (minutes / 60) + (seconds / 3600))\n",
    "    \n",
    "    return decimal_degrees\n",
    "\n",
    "\n",
    "def get_country(s):\n",
    "    # get the infobox\n",
    "    #ibox = s.find_all('tbody')\n",
    "\n",
    "    # get the country\n",
    "    #countrybox = ibox[0].find('th', string='Country').find_next('td')\n",
    "    countrybox = s.find('th', string='Country').find_next('td')\n",
    "    country = countrybox.get_text(strip=True)\n",
    "\n",
    "    return country\n",
    "    "
   ]
  },
  {
   "cell_type": "code",
   "execution_count": 3,
   "metadata": {
    "colab": {
     "base_uri": "https://localhost:8080/"
    },
    "executionInfo": {
     "elapsed": 26792,
     "status": "ok",
     "timestamp": 1707486747313,
     "user": {
      "displayName": "Philip Groß",
      "userId": "12183623736331323053"
     },
     "user_tz": -60
    },
    "id": "lps8iDRmDp7Z",
    "outputId": "e8fe657c-f66b-4882-a8bf-dd3a1dc7ec51"
   },
   "outputs": [
    {
     "name": "stdout",
     "output_type": "stream",
     "text": [
      "https://en.wikipedia.org/wiki/Berlin\n",
      "https://en.wikipedia.org/wiki/Hamburg\n",
      "https://en.wikipedia.org/wiki/Munich\n",
      "https://en.wikipedia.org/wiki/Cologne\n",
      "https://en.wikipedia.org/wiki/Frankfurt\n",
      "https://en.wikipedia.org/wiki/Stuttgart\n",
      "https://en.wikipedia.org/wiki/Düsseldorf\n",
      "https://en.wikipedia.org/wiki/Leipzig\n",
      "https://en.wikipedia.org/wiki/Dortmund\n",
      "https://en.wikipedia.org/wiki/Paris\n",
      "https://en.wikipedia.org/wiki/Madrid\n",
      "https://en.wikipedia.org/wiki/Amsterdam\n",
      "https://en.wikipedia.org/wiki/Warsaw\n",
      "https://en.wikipedia.org/wiki/Vienna\n",
      "https://en.wikipedia.org/wiki/Zürich\n",
      "https://en.wikipedia.org/wiki/Prague\n"
     ]
    }
   ],
   "source": [
    "url_base = 'https://en.wikipedia.org/wiki/'\n",
    "\n",
    "names_de = ['Berlin', 'Hamburg', 'Munich',\n",
    "            'Cologne', 'Frankfurt', 'Stuttgart',\n",
    "            'Düsseldorf', 'Leipzig', 'Dortmund']\n",
    "\n",
    "names_eu = ['Paris', 'Madrid', #'Rome',\n",
    "            'Amsterdam', 'Warsaw', 'Vienna',\n",
    "            'Zürich', 'Prague']\n",
    "\n",
    "sites = []\n",
    "cities = []\n",
    "pops = []\n",
    "lats, lons = [], []\n",
    "countries = []\n",
    "\n",
    "urls = []\n",
    "for name in names_de + names_eu:\n",
    "    url = url_base + name\n",
    "    urls.append(url)\n",
    "\n",
    "#for url in urls + urls_de + urls_eu:\n",
    "for url in urls:\n",
    "    # get site\n",
    "    print(url)\n",
    "    site = requests.get(url)\n",
    "    sites.append(site)\n",
    "\n",
    "    # get city name\n",
    "    city = url.split('/')[-1]\n",
    "    cities.append(city)\n",
    "\n",
    "    # generate soup\n",
    "    soup = BeautifulSoup(site.content, 'html.parser')\n",
    "\n",
    "    # get pop\n",
    "    pop = get_pop_data(soup)\n",
    "    pops.append(pop)\n",
    "\n",
    "    # get coordinates\n",
    "    lat, lon = get_coordinates(soup)\n",
    "    lats.append(lat)\n",
    "    lons.append(lon)\n",
    "\n",
    "    # get countries\n",
    "    country = get_country(soup)\n",
    "    countries.append(country)\n",
    "\n",
    "#print(sites, cities, pops)"
   ]
  },
  {
   "cell_type": "markdown",
   "metadata": {
    "id": "chPB6OIqc-7r"
   },
   "source": [
    "## 2. Data Organisation"
   ]
  },
  {
   "cell_type": "code",
   "execution_count": 4,
   "metadata": {
    "colab": {
     "base_uri": "https://localhost:8080/",
     "height": 551
    },
    "executionInfo": {
     "elapsed": 11,
     "status": "ok",
     "timestamp": 1707486747315,
     "user": {
      "displayName": "Philip Groß",
      "userId": "12183623736331323053"
     },
     "user_tz": -60
    },
    "id": "HlfOX2uzbnRy",
    "outputId": "9d8613fb-1510-4f9f-b87c-7ee0807e541d"
   },
   "outputs": [
    {
     "data": {
      "text/html": [
       "<div>\n",
       "<style scoped>\n",
       "    .dataframe tbody tr th:only-of-type {\n",
       "        vertical-align: middle;\n",
       "    }\n",
       "\n",
       "    .dataframe tbody tr th {\n",
       "        vertical-align: top;\n",
       "    }\n",
       "\n",
       "    .dataframe thead th {\n",
       "        text-align: right;\n",
       "    }\n",
       "</style>\n",
       "<table border=\"1\" class=\"dataframe\">\n",
       "  <thead>\n",
       "    <tr style=\"text-align: right;\">\n",
       "      <th></th>\n",
       "      <th>city</th>\n",
       "      <th>pop</th>\n",
       "      <th>lat</th>\n",
       "      <th>lon</th>\n",
       "      <th>country</th>\n",
       "    </tr>\n",
       "  </thead>\n",
       "  <tbody>\n",
       "    <tr>\n",
       "      <th>0</th>\n",
       "      <td>Berlin</td>\n",
       "      <td>3576873</td>\n",
       "      <td>52.520000</td>\n",
       "      <td>13.405000</td>\n",
       "      <td>Germany</td>\n",
       "    </tr>\n",
       "    <tr>\n",
       "      <th>1</th>\n",
       "      <td>Hamburg</td>\n",
       "      <td>1945532</td>\n",
       "      <td>53.550000</td>\n",
       "      <td>10.000000</td>\n",
       "      <td>Germany</td>\n",
       "    </tr>\n",
       "    <tr>\n",
       "      <th>2</th>\n",
       "      <td>Munich</td>\n",
       "      <td>1512491</td>\n",
       "      <td>48.137500</td>\n",
       "      <td>11.575000</td>\n",
       "      <td>Germany</td>\n",
       "    </tr>\n",
       "    <tr>\n",
       "      <th>3</th>\n",
       "      <td>Cologne</td>\n",
       "      <td>1073096</td>\n",
       "      <td>50.936389</td>\n",
       "      <td>6.952778</td>\n",
       "      <td>Germany</td>\n",
       "    </tr>\n",
       "    <tr>\n",
       "      <th>4</th>\n",
       "      <td>Frankfurt</td>\n",
       "      <td>773068</td>\n",
       "      <td>50.110556</td>\n",
       "      <td>8.682222</td>\n",
       "      <td>Germany</td>\n",
       "    </tr>\n",
       "    <tr>\n",
       "      <th>5</th>\n",
       "      <td>Stuttgart</td>\n",
       "      <td>626275</td>\n",
       "      <td>48.777500</td>\n",
       "      <td>9.180000</td>\n",
       "      <td>Germany</td>\n",
       "    </tr>\n",
       "    <tr>\n",
       "      <th>6</th>\n",
       "      <td>Düsseldorf</td>\n",
       "      <td>619477</td>\n",
       "      <td>51.233333</td>\n",
       "      <td>6.783333</td>\n",
       "      <td>Germany</td>\n",
       "    </tr>\n",
       "    <tr>\n",
       "      <th>7</th>\n",
       "      <td>Leipzig</td>\n",
       "      <td>601866</td>\n",
       "      <td>51.340000</td>\n",
       "      <td>12.375000</td>\n",
       "      <td>Germany</td>\n",
       "    </tr>\n",
       "    <tr>\n",
       "      <th>8</th>\n",
       "      <td>Dortmund</td>\n",
       "      <td>586852</td>\n",
       "      <td>51.513889</td>\n",
       "      <td>7.465278</td>\n",
       "      <td>Germany</td>\n",
       "    </tr>\n",
       "    <tr>\n",
       "      <th>9</th>\n",
       "      <td>Paris</td>\n",
       "      <td>2102650</td>\n",
       "      <td>48.856667</td>\n",
       "      <td>2.352222</td>\n",
       "      <td>France</td>\n",
       "    </tr>\n",
       "    <tr>\n",
       "      <th>10</th>\n",
       "      <td>Madrid</td>\n",
       "      <td>3223334</td>\n",
       "      <td>40.416944</td>\n",
       "      <td>-3.703333</td>\n",
       "      <td>Spain</td>\n",
       "    </tr>\n",
       "    <tr>\n",
       "      <th>11</th>\n",
       "      <td>Amsterdam</td>\n",
       "      <td>921402</td>\n",
       "      <td>52.372778</td>\n",
       "      <td>4.893611</td>\n",
       "      <td>Netherlands</td>\n",
       "    </tr>\n",
       "    <tr>\n",
       "      <th>12</th>\n",
       "      <td>Warsaw</td>\n",
       "      <td>1863056</td>\n",
       "      <td>52.230000</td>\n",
       "      <td>21.011111</td>\n",
       "      <td>Poland</td>\n",
       "    </tr>\n",
       "    <tr>\n",
       "      <th>13</th>\n",
       "      <td>Vienna</td>\n",
       "      <td>2002821</td>\n",
       "      <td>48.208333</td>\n",
       "      <td>16.372500</td>\n",
       "      <td>Austria</td>\n",
       "    </tr>\n",
       "    <tr>\n",
       "      <th>14</th>\n",
       "      <td>Zürich</td>\n",
       "      <td>415367</td>\n",
       "      <td>47.374444</td>\n",
       "      <td>8.541111</td>\n",
       "      <td>Switzerland</td>\n",
       "    </tr>\n",
       "    <tr>\n",
       "      <th>15</th>\n",
       "      <td>Prague</td>\n",
       "      <td>1357326</td>\n",
       "      <td>50.087500</td>\n",
       "      <td>14.421389</td>\n",
       "      <td>Czech Republic</td>\n",
       "    </tr>\n",
       "  </tbody>\n",
       "</table>\n",
       "</div>"
      ],
      "text/plain": [
       "          city      pop        lat        lon         country\n",
       "0       Berlin  3576873  52.520000  13.405000         Germany\n",
       "1      Hamburg  1945532  53.550000  10.000000         Germany\n",
       "2       Munich  1512491  48.137500  11.575000         Germany\n",
       "3      Cologne  1073096  50.936389   6.952778         Germany\n",
       "4    Frankfurt   773068  50.110556   8.682222         Germany\n",
       "5    Stuttgart   626275  48.777500   9.180000         Germany\n",
       "6   Düsseldorf   619477  51.233333   6.783333         Germany\n",
       "7      Leipzig   601866  51.340000  12.375000         Germany\n",
       "8     Dortmund   586852  51.513889   7.465278         Germany\n",
       "9        Paris  2102650  48.856667   2.352222          France\n",
       "10      Madrid  3223334  40.416944  -3.703333           Spain\n",
       "11   Amsterdam   921402  52.372778   4.893611     Netherlands\n",
       "12      Warsaw  1863056  52.230000  21.011111          Poland\n",
       "13      Vienna  2002821  48.208333  16.372500         Austria\n",
       "14      Zürich   415367  47.374444   8.541111     Switzerland\n",
       "15      Prague  1357326  50.087500  14.421389  Czech Republic"
      ]
     },
     "execution_count": 4,
     "metadata": {},
     "output_type": "execute_result"
    }
   ],
   "source": [
    "df = pd.DataFrame({'city': cities,\n",
    "                   'pop': pops,\n",
    "                   'lat': lats,\n",
    "                   'lon': lons,\n",
    "                   'country': countries})\n",
    "#df.info()\n",
    "df"
   ]
  },
  {
   "cell_type": "code",
   "execution_count": 5,
   "metadata": {
    "colab": {
     "base_uri": "https://localhost:8080/",
     "height": 340
    },
    "executionInfo": {
     "elapsed": 11,
     "status": "error",
     "timestamp": 1707486818399,
     "user": {
      "displayName": "Philip Groß",
      "userId": "12183623736331323053"
     },
     "user_tz": -60
    },
    "id": "nupkBAChbnkh",
    "outputId": "cfdefc3c-c777-4065-f058-6018c5d19ed2"
   },
   "outputs": [],
   "source": [
    "df.to_csv(path_or_buf='./city_data.csv', index=False)"
   ]
  },
  {
   "cell_type": "code",
   "execution_count": null,
   "metadata": {
    "executionInfo": {
     "elapsed": 11,
     "status": "aborted",
     "timestamp": 1707486699706,
     "user": {
      "displayName": "Philip Groß",
      "userId": "12183623736331323053"
     },
     "user_tz": -60
    },
    "id": "WBzgHvfkJ1vq"
   },
   "outputs": [],
   "source": []
  }
 ],
 "metadata": {
  "colab": {
   "authorship_tag": "ABX9TyNh4e9FGnz610xgbRq48Q+b",
   "provenance": []
  },
  "kernelspec": {
   "display_name": "Python 3 (ipykernel)",
   "language": "python",
   "name": "python3"
  },
  "language_info": {
   "codemirror_mode": {
    "name": "ipython",
    "version": 3
   },
   "file_extension": ".py",
   "mimetype": "text/x-python",
   "name": "python",
   "nbconvert_exporter": "python",
   "pygments_lexer": "ipython3",
   "version": "3.11.5"
  }
 },
 "nbformat": 4,
 "nbformat_minor": 4
}
